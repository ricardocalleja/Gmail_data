{
 "cells": [
  {
   "cell_type": "code",
   "execution_count": 1,
   "metadata": {},
   "outputs": [],
   "source": [
    "import mailbox\n",
    "import pandas as pd\n",
    "import csv\n",
    "import unicodedata\n",
    "import matplotlib.pyplot as plt\n",
    "%matplotlib inline\n",
    "import seaborn as sns\n",
    "sns.set(rc={'figure.facecolor':'white'})\n",
    "\n",
    "from time import time\n",
    "from collections import Counter\n"
   ]
  },
  {
   "cell_type": "code",
   "execution_count": 2,
   "metadata": {},
   "outputs": [
    {
     "name": "stdout",
     "output_type": "stream",
     "text": [
      "samples: 6704\n"
     ]
    }
   ],
   "source": [
    "file_path = 'gmail_data.mbox'\n",
    "mbox = mailbox.mbox(file_path)\n",
    "print('samples:', len(mbox))"
   ]
  },
  {
   "cell_type": "code",
   "execution_count": 3,
   "metadata": {},
   "outputs": [
    {
     "name": "stdout",
     "output_type": "stream",
     "text": [
      "1 X-GM-THRID\n",
      "2 X-Gmail-Labels\n",
      "3 Delivered-To\n",
      "4 Received\n",
      "5 X-Google-Smtp-Source\n",
      "6 X-Received\n",
      "7 ARC-Seal\n",
      "8 ARC-Message-Signature\n",
      "9 ARC-Authentication-Results\n",
      "10 Return-Path\n",
      "11 Received\n",
      "12 Received-SPF\n",
      "13 Authentication-Results\n",
      "14 DKIM-Signature\n",
      "15 DKIM-Signature\n",
      "16 X-Feedback-Id\n",
      "17 X-Mailgun-Sending-Ip\n",
      "18 X-Mailgun-Sid\n",
      "19 Received\n",
      "20 Sender\n",
      "21 Message-ID\n",
      "22 Date\n",
      "23 Subject\n",
      "24 From\n",
      "25 To\n",
      "26 MIME-Version\n",
      "27 Content-Type\n",
      "28 Content-Transfer-Encoding\n",
      "29 X-Mailer-Hash\n"
     ]
    }
   ],
   "source": [
    "# print fields\n",
    "for i, key in enumerate(mbox[0].keys()):\n",
    "    print(i+1, key)"
   ]
  },
  {
   "cell_type": "code",
   "execution_count": 4,
   "metadata": {},
   "outputs": [
    {
     "name": "stdout",
     "output_type": "stream",
     "text": [
      "0 2000 4000 6000 \n",
      "time: 1.0 min\n"
     ]
    }
   ],
   "source": [
    "t0 = time()\n",
    "subject = []\n",
    "from_ = []\n",
    "to = []\n",
    "date = []\n",
    "label = []\n",
    "for i, message in enumerate(mbox):\n",
    "    try:\n",
    "        if i%2000 == 0:\n",
    "            print(i, end=' ')\n",
    "        subject.append(message['subject'])\n",
    "        from_.append(message['from'])\n",
    "        to.append(message['to'])\n",
    "        date.append(message['date'])\n",
    "        label.append(message['X-Gmail-Labels'])\n",
    "    except:\n",
    "        print(i, end=' ')\n",
    "        print('subject', subject[i])\n",
    "        print('from', from_[i])\n",
    "        print('to', to[i])\n",
    "        print('date', date[i])\n",
    "        print('label', label[i])\n",
    "print('\\ntime: {:.1f} min'.format((time()-t0)/60))"
   ]
  },
  {
   "cell_type": "code",
   "execution_count": 5,
   "metadata": {},
   "outputs": [],
   "source": [
    "\n",
    "df = pd.DataFrame()\n",
    "df['subject'] = subject\n",
    "df['from'] = from_\n",
    "df['to'] = to\n",
    "df['date'] = date\n",
    "df['label'] = label"
   ]
  },
  {
   "cell_type": "code",
   "execution_count": 6,
   "metadata": {},
   "outputs": [
    {
     "data": {
      "text/html": [
       "<div>\n",
       "<style scoped>\n",
       "    .dataframe tbody tr th:only-of-type {\n",
       "        vertical-align: middle;\n",
       "    }\n",
       "\n",
       "    .dataframe tbody tr th {\n",
       "        vertical-align: top;\n",
       "    }\n",
       "\n",
       "    .dataframe thead th {\n",
       "        text-align: right;\n",
       "    }\n",
       "</style>\n",
       "<table border=\"1\" class=\"dataframe\">\n",
       "  <thead>\n",
       "    <tr style=\"text-align: right;\">\n",
       "      <th></th>\n",
       "      <th>subject</th>\n",
       "      <th>date</th>\n",
       "      <th>label</th>\n",
       "    </tr>\n",
       "  </thead>\n",
       "  <tbody>\n",
       "    <tr>\n",
       "      <th>0</th>\n",
       "      <td>Servicios - Hola Ricardo ! Te invitamos a post...</td>\n",
       "      <td>Wed, 17 Jun 2020 11:51:36 -0400</td>\n",
       "      <td>Important,Trash,Opened,Category Updates</td>\n",
       "    </tr>\n",
       "    <tr>\n",
       "      <th>1</th>\n",
       "      <td>=?UTF-8?Q?Notificaci=C3=B3n=3A_Use_up_retainer...</td>\n",
       "      <td>Thu, 18 Jun 2020 00:30:12 +0000</td>\n",
       "      <td>Trash,Category Updates,Unread</td>\n",
       "    </tr>\n",
       "    <tr>\n",
       "      <th>2</th>\n",
       "      <td>=?utf-8?B?TmVzdGzDqSBDaGlsZSBTQSB5YSByZWNpYmnD...</td>\n",
       "      <td>Wed, 17 Jun 2020 13:18:21 +0000 (UTC)</td>\n",
       "      <td>Trash,Category Updates,Unread</td>\n",
       "    </tr>\n",
       "    <tr>\n",
       "      <th>3</th>\n",
       "      <td>=?utf-8?B?TmVzdGzDqSBDaGlsZSBTQSB5YSByZWNpYmnD...</td>\n",
       "      <td>Wed, 17 Jun 2020 13:17:54 +0000 (UTC)</td>\n",
       "      <td>Trash,Category Updates,Unread</td>\n",
       "    </tr>\n",
       "    <tr>\n",
       "      <th>4</th>\n",
       "      <td>=?utf-8?B?U3VwZXJtZXJjYWRvcyBVbmltYXJjIHlh?=\\n...</td>\n",
       "      <td>Wed, 17 Jun 2020 13:22:19 +0000 (UTC)</td>\n",
       "      <td>Trash,Category Updates,Unread</td>\n",
       "    </tr>\n",
       "  </tbody>\n",
       "</table>\n",
       "</div>"
      ],
      "text/plain": [
       "                                             subject  \\\n",
       "0  Servicios - Hola Ricardo ! Te invitamos a post...   \n",
       "1  =?UTF-8?Q?Notificaci=C3=B3n=3A_Use_up_retainer...   \n",
       "2  =?utf-8?B?TmVzdGzDqSBDaGlsZSBTQSB5YSByZWNpYmnD...   \n",
       "3  =?utf-8?B?TmVzdGzDqSBDaGlsZSBTQSB5YSByZWNpYmnD...   \n",
       "4  =?utf-8?B?U3VwZXJtZXJjYWRvcyBVbmltYXJjIHlh?=\\n...   \n",
       "\n",
       "                                    date  \\\n",
       "0        Wed, 17 Jun 2020 11:51:36 -0400   \n",
       "1        Thu, 18 Jun 2020 00:30:12 +0000   \n",
       "2  Wed, 17 Jun 2020 13:18:21 +0000 (UTC)   \n",
       "3  Wed, 17 Jun 2020 13:17:54 +0000 (UTC)   \n",
       "4  Wed, 17 Jun 2020 13:22:19 +0000 (UTC)   \n",
       "\n",
       "                                     label  \n",
       "0  Important,Trash,Opened,Category Updates  \n",
       "1            Trash,Category Updates,Unread  \n",
       "2            Trash,Category Updates,Unread  \n",
       "3            Trash,Category Updates,Unread  \n",
       "4            Trash,Category Updates,Unread  "
      ]
     },
     "execution_count": 6,
     "metadata": {},
     "output_type": "execute_result"
    }
   ],
   "source": [
    "df[['subject', 'date', 'label']].head()"
   ]
  },
  {
   "cell_type": "code",
   "execution_count": 7,
   "metadata": {},
   "outputs": [],
   "source": [
    "def remove_accents(text):\n",
    "    text = str(text)\n",
    "    nfkd_norm = unicodedata.normalize('NFKD', text)\n",
    "    text = nfkd_norm.encode('ASCII', 'ignore').decode('utf-8')\n",
    "    return text"
   ]
  },
  {
   "cell_type": "code",
   "execution_count": 8,
   "metadata": {},
   "outputs": [],
   "source": [
    "df['subject'] = df['subject'].map(remove_accents)"
   ]
  },
  {
   "cell_type": "code",
   "execution_count": 9,
   "metadata": {},
   "outputs": [
    {
     "name": "stdout",
     "output_type": "stream",
     "text": [
      "<class 'pandas.core.frame.DataFrame'>\n",
      "RangeIndex: 6704 entries, 0 to 6703\n",
      "Data columns (total 5 columns):\n",
      " #   Column   Non-Null Count  Dtype \n",
      "---  ------   --------------  ----- \n",
      " 0   subject  6704 non-null   object\n",
      " 1   from     6704 non-null   object\n",
      " 2   to       6671 non-null   object\n",
      " 3   date     6694 non-null   object\n",
      " 4   label    6703 non-null   object\n",
      "dtypes: object(5)\n",
      "memory usage: 262.0+ KB\n"
     ]
    }
   ],
   "source": [
    "df.info()\n"
   ]
  },
  {
   "cell_type": "code",
   "execution_count": 10,
   "metadata": {},
   "outputs": [
    {
     "data": {
      "text/html": [
       "<div>\n",
       "<style scoped>\n",
       "    .dataframe tbody tr th:only-of-type {\n",
       "        vertical-align: middle;\n",
       "    }\n",
       "\n",
       "    .dataframe tbody tr th {\n",
       "        vertical-align: top;\n",
       "    }\n",
       "\n",
       "    .dataframe thead th {\n",
       "        text-align: right;\n",
       "    }\n",
       "</style>\n",
       "<table border=\"1\" class=\"dataframe\">\n",
       "  <thead>\n",
       "    <tr style=\"text-align: right;\">\n",
       "      <th></th>\n",
       "      <th>subject</th>\n",
       "      <th>to</th>\n",
       "      <th>date</th>\n",
       "    </tr>\n",
       "  </thead>\n",
       "  <tbody>\n",
       "    <tr>\n",
       "      <th>4203</th>\n",
       "      <td>None</td>\n",
       "      <td>None</td>\n",
       "      <td>None</td>\n",
       "    </tr>\n",
       "    <tr>\n",
       "      <th>4494</th>\n",
       "      <td>None</td>\n",
       "      <td>None</td>\n",
       "      <td>None</td>\n",
       "    </tr>\n",
       "    <tr>\n",
       "      <th>4495</th>\n",
       "      <td>None</td>\n",
       "      <td>None</td>\n",
       "      <td>None</td>\n",
       "    </tr>\n",
       "    <tr>\n",
       "      <th>5855</th>\n",
       "      <td>None</td>\n",
       "      <td>None</td>\n",
       "      <td>None</td>\n",
       "    </tr>\n",
       "    <tr>\n",
       "      <th>5856</th>\n",
       "      <td>None</td>\n",
       "      <td>None</td>\n",
       "      <td>None</td>\n",
       "    </tr>\n",
       "  </tbody>\n",
       "</table>\n",
       "</div>"
      ],
      "text/plain": [
       "     subject    to  date\n",
       "4203    None  None  None\n",
       "4494    None  None  None\n",
       "4495    None  None  None\n",
       "5855    None  None  None\n",
       "5856    None  None  None"
      ]
     },
     "execution_count": 10,
     "metadata": {},
     "output_type": "execute_result"
    }
   ],
   "source": [
    "df[df['date'].isnull()][['subject', 'to', 'date']].head()\n"
   ]
  },
  {
   "cell_type": "code",
   "execution_count": 11,
   "metadata": {},
   "outputs": [
    {
     "data": {
      "text/plain": [
       "6704"
      ]
     },
     "execution_count": 11,
     "metadata": {},
     "output_type": "execute_result"
    }
   ],
   "source": [
    "len(df[df['date'].isnull()])\n",
    "len(df)"
   ]
  },
  {
   "cell_type": "code",
   "execution_count": 12,
   "metadata": {},
   "outputs": [
    {
     "data": {
      "text/html": [
       "<div>\n",
       "<style scoped>\n",
       "    .dataframe tbody tr th:only-of-type {\n",
       "        vertical-align: middle;\n",
       "    }\n",
       "\n",
       "    .dataframe tbody tr th {\n",
       "        vertical-align: top;\n",
       "    }\n",
       "\n",
       "    .dataframe thead th {\n",
       "        text-align: right;\n",
       "    }\n",
       "</style>\n",
       "<table border=\"1\" class=\"dataframe\">\n",
       "  <thead>\n",
       "    <tr style=\"text-align: right;\">\n",
       "      <th></th>\n",
       "      <th>date</th>\n",
       "    </tr>\n",
       "  </thead>\n",
       "  <tbody>\n",
       "    <tr>\n",
       "      <th>0</th>\n",
       "      <td>Wed, 17 Jun 2020 11:51:36 -0400</td>\n",
       "    </tr>\n",
       "    <tr>\n",
       "      <th>1</th>\n",
       "      <td>Thu, 18 Jun 2020 00:30:12 +0000</td>\n",
       "    </tr>\n",
       "    <tr>\n",
       "      <th>2</th>\n",
       "      <td>Wed, 17 Jun 2020 13:18:21 +0000 (UTC)</td>\n",
       "    </tr>\n",
       "    <tr>\n",
       "      <th>3</th>\n",
       "      <td>Wed, 17 Jun 2020 13:17:54 +0000 (UTC)</td>\n",
       "    </tr>\n",
       "    <tr>\n",
       "      <th>4</th>\n",
       "      <td>Wed, 17 Jun 2020 13:22:19 +0000 (UTC)</td>\n",
       "    </tr>\n",
       "  </tbody>\n",
       "</table>\n",
       "</div>"
      ],
      "text/plain": [
       "                                    date\n",
       "0        Wed, 17 Jun 2020 11:51:36 -0400\n",
       "1        Thu, 18 Jun 2020 00:30:12 +0000\n",
       "2  Wed, 17 Jun 2020 13:18:21 +0000 (UTC)\n",
       "3  Wed, 17 Jun 2020 13:17:54 +0000 (UTC)\n",
       "4  Wed, 17 Jun 2020 13:22:19 +0000 (UTC)"
      ]
     },
     "execution_count": 12,
     "metadata": {},
     "output_type": "execute_result"
    }
   ],
   "source": [
    "df[['date']].head()\n"
   ]
  },
  {
   "cell_type": "code",
   "execution_count": 13,
   "metadata": {},
   "outputs": [
    {
     "name": "stderr",
     "output_type": "stream",
     "text": [
      "C:\\Users\\rc_sh\\anaconda3\\lib\\site-packages\\dateutil\\parser\\_parser.py:1218: UnknownTimezoneWarning: tzname CDT identified but not understood.  Pass `tzinfos` argument in order to correctly return a timezone-aware datetime.  In a future version, this will raise an exception.\n",
      "  category=UnknownTimezoneWarning)\n",
      "C:\\Users\\rc_sh\\anaconda3\\lib\\site-packages\\dateutil\\parser\\_parser.py:1218: UnknownTimezoneWarning: tzname UT identified but not understood.  Pass `tzinfos` argument in order to correctly return a timezone-aware datetime.  In a future version, this will raise an exception.\n",
      "  category=UnknownTimezoneWarning)\n"
     ]
    }
   ],
   "source": [
    "df['date'] = df['date'].apply(lambda x: pd.to_datetime(x, errors='coerce', utc=True))\n"
   ]
  },
  {
   "cell_type": "code",
   "execution_count": 14,
   "metadata": {},
   "outputs": [],
   "source": [
    "df = df[df['date'].notnull()]\n"
   ]
  },
  {
   "cell_type": "code",
   "execution_count": 15,
   "metadata": {},
   "outputs": [],
   "source": [
    "df = df.sort_values(['date'], ascending=False)\n",
    "df = df.reset_index(drop=True)"
   ]
  },
  {
   "cell_type": "code",
   "execution_count": 16,
   "metadata": {},
   "outputs": [
    {
     "data": {
      "text/html": [
       "<div>\n",
       "<style scoped>\n",
       "    .dataframe tbody tr th:only-of-type {\n",
       "        vertical-align: middle;\n",
       "    }\n",
       "\n",
       "    .dataframe tbody tr th {\n",
       "        vertical-align: top;\n",
       "    }\n",
       "\n",
       "    .dataframe thead th {\n",
       "        text-align: right;\n",
       "    }\n",
       "</style>\n",
       "<table border=\"1\" class=\"dataframe\">\n",
       "  <thead>\n",
       "    <tr style=\"text-align: right;\">\n",
       "      <th></th>\n",
       "      <th>subject</th>\n",
       "      <th>date</th>\n",
       "      <th>label</th>\n",
       "    </tr>\n",
       "  </thead>\n",
       "  <tbody>\n",
       "    <tr>\n",
       "      <th>0</th>\n",
       "      <td>Archive of Google data requested</td>\n",
       "      <td>2020-06-18 16:20:07+00:00</td>\n",
       "      <td>Inbox,Important,Category Personal,Unread</td>\n",
       "    </tr>\n",
       "    <tr>\n",
       "      <th>1</th>\n",
       "      <td>DESARROLLADOR DE PROYECTOS PV/WIND</td>\n",
       "      <td>2020-06-18 16:16:51+00:00</td>\n",
       "      <td>Archived,Sent</td>\n",
       "    </tr>\n",
       "    <tr>\n",
       "      <th>2</th>\n",
       "      <td>=?utf-8?Q?Your_Application_to_the_Position_of_...</td>\n",
       "      <td>2020-06-18 15:39:48+00:00</td>\n",
       "      <td>Trash,Category Updates,Unread</td>\n",
       "    </tr>\n",
       "    <tr>\n",
       "      <th>3</th>\n",
       "      <td>=?utf-8?Q?Your_Application_to_the_Position_of_...</td>\n",
       "      <td>2020-06-18 15:29:53+00:00</td>\n",
       "      <td>Trash,Category Updates,Unread</td>\n",
       "    </tr>\n",
       "    <tr>\n",
       "      <th>4</th>\n",
       "      <td>YoBit: Get Paid for Posts &amp; Rates!</td>\n",
       "      <td>2020-06-18 15:17:03+00:00</td>\n",
       "      <td>Trash,Category Updates,Unread</td>\n",
       "    </tr>\n",
       "    <tr>\n",
       "      <th>5</th>\n",
       "      <td>(Control HSEQ- Proyecto Rancagua-Sauzal , 2020...</td>\n",
       "      <td>2020-06-18 14:49:04+00:00</td>\n",
       "      <td>Trash,Category Updates,Unread</td>\n",
       "    </tr>\n",
       "    <tr>\n",
       "      <th>6</th>\n",
       "      <td>(INGENIEROS PYC (EXPERIENCIA 5 =?UTF-8?q?A=C3=...</td>\n",
       "      <td>2020-06-18 14:48:02+00:00</td>\n",
       "      <td>Trash,Category Updates,Unread</td>\n",
       "    </tr>\n",
       "    <tr>\n",
       "      <th>7</th>\n",
       "      <td>Test Engineer</td>\n",
       "      <td>2020-06-18 13:58:52+00:00</td>\n",
       "      <td>Archived,Sent</td>\n",
       "    </tr>\n",
       "  </tbody>\n",
       "</table>\n",
       "</div>"
      ],
      "text/plain": [
       "                                             subject  \\\n",
       "0                   Archive of Google data requested   \n",
       "1                 DESARROLLADOR DE PROYECTOS PV/WIND   \n",
       "2  =?utf-8?Q?Your_Application_to_the_Position_of_...   \n",
       "3  =?utf-8?Q?Your_Application_to_the_Position_of_...   \n",
       "4                 YoBit: Get Paid for Posts & Rates!   \n",
       "5  (Control HSEQ- Proyecto Rancagua-Sauzal , 2020...   \n",
       "6  (INGENIEROS PYC (EXPERIENCIA 5 =?UTF-8?q?A=C3=...   \n",
       "7                                     Test Engineer    \n",
       "\n",
       "                       date                                     label  \n",
       "0 2020-06-18 16:20:07+00:00  Inbox,Important,Category Personal,Unread  \n",
       "1 2020-06-18 16:16:51+00:00                             Archived,Sent  \n",
       "2 2020-06-18 15:39:48+00:00             Trash,Category Updates,Unread  \n",
       "3 2020-06-18 15:29:53+00:00             Trash,Category Updates,Unread  \n",
       "4 2020-06-18 15:17:03+00:00             Trash,Category Updates,Unread  \n",
       "5 2020-06-18 14:49:04+00:00             Trash,Category Updates,Unread  \n",
       "6 2020-06-18 14:48:02+00:00             Trash,Category Updates,Unread  \n",
       "7 2020-06-18 13:58:52+00:00                             Archived,Sent  "
      ]
     },
     "execution_count": 16,
     "metadata": {},
     "output_type": "execute_result"
    }
   ],
   "source": [
    "df[['subject', 'date', 'label']].head(8)\n"
   ]
  },
  {
   "cell_type": "code",
   "execution_count": 17,
   "metadata": {},
   "outputs": [
    {
     "data": {
      "text/html": [
       "<div>\n",
       "<style scoped>\n",
       "    .dataframe tbody tr th:only-of-type {\n",
       "        vertical-align: middle;\n",
       "    }\n",
       "\n",
       "    .dataframe tbody tr th {\n",
       "        vertical-align: top;\n",
       "    }\n",
       "\n",
       "    .dataframe thead th {\n",
       "        text-align: right;\n",
       "    }\n",
       "</style>\n",
       "<table border=\"1\" class=\"dataframe\">\n",
       "  <thead>\n",
       "    <tr style=\"text-align: right;\">\n",
       "      <th></th>\n",
       "      <th>subject</th>\n",
       "      <th>date</th>\n",
       "      <th>label</th>\n",
       "    </tr>\n",
       "  </thead>\n",
       "  <tbody>\n",
       "    <tr>\n",
       "      <th>6578</th>\n",
       "      <td>Hola Albany</td>\n",
       "      <td>2008-01-18 18:45:52+00:00</td>\n",
       "      <td>Sent,Opened</td>\n",
       "    </tr>\n",
       "    <tr>\n",
       "      <th>6579</th>\n",
       "      <td>presentacion powerpoint</td>\n",
       "      <td>2007-12-21 21:25:48+00:00</td>\n",
       "      <td>Unread</td>\n",
       "    </tr>\n",
       "    <tr>\n",
       "      <th>6580</th>\n",
       "      <td>Agenda 2008</td>\n",
       "      <td>2007-12-16 17:21:12+00:00</td>\n",
       "      <td>Opened</td>\n",
       "    </tr>\n",
       "    <tr>\n",
       "      <th>6581</th>\n",
       "      <td>Fw: Respaldo pasaportes. 16/11/2007</td>\n",
       "      <td>2007-12-15 15:48:12+00:00</td>\n",
       "      <td>Opened,Starred,Mercadolibre,pasaportes</td>\n",
       "    </tr>\n",
       "    <tr>\n",
       "      <th>6582</th>\n",
       "      <td>I have a new Yahoo! Mail address</td>\n",
       "      <td>2007-12-15 15:47:57+00:00</td>\n",
       "      <td>Starred,Mercadolibre,pasaportes</td>\n",
       "    </tr>\n",
       "    <tr>\n",
       "      <th>6583</th>\n",
       "      <td>FW: PARA NUNCA\\n OLVIDAR.........................</td>\n",
       "      <td>2007-12-15 15:20:05+00:00</td>\n",
       "      <td>Opened,Starred,Mercadolibre</td>\n",
       "    </tr>\n",
       "    <tr>\n",
       "      <th>6584</th>\n",
       "      <td>=?iso-8859-1?Q?Fw=3A_Confirmaci=F3n_de_cuenta_...</td>\n",
       "      <td>2007-12-15 15:17:46+00:00</td>\n",
       "      <td>Opened,Starred,Mercadolibre</td>\n",
       "    </tr>\n",
       "    <tr>\n",
       "      <th>6585</th>\n",
       "      <td>Fw: Sistema Automatizado - CADIVI</td>\n",
       "      <td>2007-12-15 15:16:44+00:00</td>\n",
       "      <td>Opened,Mercadolibre</td>\n",
       "    </tr>\n",
       "    <tr>\n",
       "      <th>6586</th>\n",
       "      <td>=?iso-8859-1?Q?Fw=3A_Tu_contrase=F1a_de_YouTube?=</td>\n",
       "      <td>2007-12-15 15:16:14+00:00</td>\n",
       "      <td>Starred,Mercadolibre</td>\n",
       "    </tr>\n",
       "  </tbody>\n",
       "</table>\n",
       "</div>"
      ],
      "text/plain": [
       "                                                subject  \\\n",
       "6578                                        Hola Albany   \n",
       "6579                            presentacion powerpoint   \n",
       "6580                                        Agenda 2008   \n",
       "6581                Fw: Respaldo pasaportes. 16/11/2007   \n",
       "6582                   I have a new Yahoo! Mail address   \n",
       "6583  FW: PARA NUNCA\\n OLVIDAR.........................   \n",
       "6584  =?iso-8859-1?Q?Fw=3A_Confirmaci=F3n_de_cuenta_...   \n",
       "6585                  Fw: Sistema Automatizado - CADIVI   \n",
       "6586  =?iso-8859-1?Q?Fw=3A_Tu_contrase=F1a_de_YouTube?=   \n",
       "\n",
       "                          date                                   label  \n",
       "6578 2008-01-18 18:45:52+00:00                             Sent,Opened  \n",
       "6579 2007-12-21 21:25:48+00:00                                  Unread  \n",
       "6580 2007-12-16 17:21:12+00:00                                  Opened  \n",
       "6581 2007-12-15 15:48:12+00:00  Opened,Starred,Mercadolibre,pasaportes  \n",
       "6582 2007-12-15 15:47:57+00:00         Starred,Mercadolibre,pasaportes  \n",
       "6583 2007-12-15 15:20:05+00:00             Opened,Starred,Mercadolibre  \n",
       "6584 2007-12-15 15:17:46+00:00             Opened,Starred,Mercadolibre  \n",
       "6585 2007-12-15 15:16:44+00:00                     Opened,Mercadolibre  \n",
       "6586 2007-12-15 15:16:14+00:00                    Starred,Mercadolibre  "
      ]
     },
     "execution_count": 17,
     "metadata": {},
     "output_type": "execute_result"
    }
   ],
   "source": [
    "df[['subject', 'date', 'label']].tail(9)\n"
   ]
  },
  {
   "cell_type": "code",
   "execution_count": 18,
   "metadata": {},
   "outputs": [],
   "source": [
    "df = df[df['label'] != 'Drafts']\n",
    "\n",
    "cnt = 0\n",
    "idx_to_remove = []\n",
    "for i, lab in enumerate(df['label']):\n",
    "    if 'Spam' in str(lab):\n",
    "        idx_to_remove.append(i)\n",
    "        \n",
    "df = df.drop(df.index[idx_to_remove])\n",
    "df = df.reset_index(drop=True)\n",
    "\n",
    "df.to_csv('gmail_data_preprocessed.csv', \n",
    "          encoding='utf-8', index=False)"
   ]
  },
  {
   "cell_type": "markdown",
   "metadata": {},
   "source": [
    "### Data exploration\n"
   ]
  },
  {
   "cell_type": "code",
   "execution_count": 19,
   "metadata": {},
   "outputs": [
    {
     "data": {
      "text/plain": [
       "6578"
      ]
     },
     "execution_count": 19,
     "metadata": {},
     "output_type": "execute_result"
    }
   ],
   "source": [
    "df = pd.read_csv('gmail_data_preprocessed.csv')\n",
    "len(df)"
   ]
  },
  {
   "cell_type": "code",
   "execution_count": 20,
   "metadata": {},
   "outputs": [
    {
     "data": {
      "text/html": [
       "<div>\n",
       "<style scoped>\n",
       "    .dataframe tbody tr th:only-of-type {\n",
       "        vertical-align: middle;\n",
       "    }\n",
       "\n",
       "    .dataframe tbody tr th {\n",
       "        vertical-align: top;\n",
       "    }\n",
       "\n",
       "    .dataframe thead th {\n",
       "        text-align: right;\n",
       "    }\n",
       "</style>\n",
       "<table border=\"1\" class=\"dataframe\">\n",
       "  <thead>\n",
       "    <tr style=\"text-align: right;\">\n",
       "      <th></th>\n",
       "      <th>subject</th>\n",
       "      <th>to</th>\n",
       "      <th>date</th>\n",
       "      <th>label</th>\n",
       "    </tr>\n",
       "  </thead>\n",
       "  <tbody>\n",
       "    <tr>\n",
       "      <th>0</th>\n",
       "      <td>Archive of Google data requested</td>\n",
       "      <td>me</td>\n",
       "      <td>2020-06-18 16:20:07+00:00</td>\n",
       "      <td>Inbox,Important,Category Personal,Unread</td>\n",
       "    </tr>\n",
       "    <tr>\n",
       "      <th>1</th>\n",
       "      <td>DESARROLLADOR DE PROYECTOS PV/WIND</td>\n",
       "      <td>laura.tartiere@robertwalters.com</td>\n",
       "      <td>2020-06-18 16:16:51+00:00</td>\n",
       "      <td>Archived,Sent</td>\n",
       "    </tr>\n",
       "    <tr>\n",
       "      <th>2</th>\n",
       "      <td>=?utf-8?Q?Your_Application_to_the_Position_of_...</td>\n",
       "      <td>me</td>\n",
       "      <td>2020-06-18 15:39:48+00:00</td>\n",
       "      <td>Trash,Category Updates,Unread</td>\n",
       "    </tr>\n",
       "    <tr>\n",
       "      <th>3</th>\n",
       "      <td>=?utf-8?Q?Your_Application_to_the_Position_of_...</td>\n",
       "      <td>me</td>\n",
       "      <td>2020-06-18 15:29:53+00:00</td>\n",
       "      <td>Trash,Category Updates,Unread</td>\n",
       "    </tr>\n",
       "  </tbody>\n",
       "</table>\n",
       "</div>"
      ],
      "text/plain": [
       "                                             subject  \\\n",
       "0                   Archive of Google data requested   \n",
       "1                 DESARROLLADOR DE PROYECTOS PV/WIND   \n",
       "2  =?utf-8?Q?Your_Application_to_the_Position_of_...   \n",
       "3  =?utf-8?Q?Your_Application_to_the_Position_of_...   \n",
       "\n",
       "                                 to                      date  \\\n",
       "0                                me 2020-06-18 16:20:07+00:00   \n",
       "1  laura.tartiere@robertwalters.com 2020-06-18 16:16:51+00:00   \n",
       "2                                me 2020-06-18 15:39:48+00:00   \n",
       "3                                me 2020-06-18 15:29:53+00:00   \n",
       "\n",
       "                                      label  \n",
       "0  Inbox,Important,Category Personal,Unread  \n",
       "1                             Archived,Sent  \n",
       "2             Trash,Category Updates,Unread  \n",
       "3             Trash,Category Updates,Unread  "
      ]
     },
     "execution_count": 20,
     "metadata": {},
     "output_type": "execute_result"
    }
   ],
   "source": [
    "df['date'] = df['date'].apply(lambda x: pd.to_datetime(x))\n",
    "\n",
    "def rename_me(txt):\n",
    "    txt = str(txt).lower()\n",
    "    if('ricardo calleja' in txt or\n",
    "       'saviercalleja' in txt):\n",
    "        txt_out = 'me'\n",
    "    else:\n",
    "        txt_out = txt\n",
    "    return txt_out\n",
    "\n",
    "\n",
    "df['from'] = df['from'].apply(rename_me)\n",
    "df['to'] = df['to'].apply(rename_me)\n",
    "\n",
    "df[['subject', 'to', 'date', 'label']].head(4)"
   ]
  },
  {
   "cell_type": "code",
   "execution_count": 21,
   "metadata": {},
   "outputs": [],
   "source": [
    "df['count'] = [1 for _ in range(len(df))]\n"
   ]
  },
  {
   "cell_type": "code",
   "execution_count": null,
   "metadata": {},
   "outputs": [],
   "source": []
  },
  {
   "cell_type": "code",
   "execution_count": 22,
   "metadata": {},
   "outputs": [],
   "source": [
    "data = df.copy()\n",
    "data.set_index('date', drop=True, inplace=True)\n",
    "data_in = data[data['to'] == 'me']\n",
    "data_out = data[data['from'] == 'me']"
   ]
  },
  {
   "cell_type": "code",
   "execution_count": 23,
   "metadata": {},
   "outputs": [
    {
     "data": {
      "image/png": "[encoded data removed]",
      "text/plain": [
       "<Figure size 432x288 with 1 Axes>"
      ]
     },
     "metadata": {},
     "output_type": "display_data"
    }
   ],
   "source": [
    "monthly_in = data_in['count'].resample('M').sum()\n",
    "monthly_out= data_out['count'].resample('M').sum()\n",
    "monthly_in.plot(color='g', label='incoming emails')\n",
    "monthly_out.plot(color='r', label='outgoing emails')\n",
    "plt.ylabel('Monthly email count')\n",
    "plt.legend(loc='lower right', frameon=True).get_frame().set_color('white');"
   ]
  },
  {
   "cell_type": "code",
   "execution_count": 24,
   "metadata": {},
   "outputs": [
    {
     "data": {
      "image/png": "[encoded data removed]",
      "text/plain": [
       "<Figure size 432x288 with 1 Axes>"
      ]
     },
     "metadata": {},
     "output_type": "display_data"
    }
   ],
   "source": [
    "\n",
    "monthly_in.plot(color='g', label='incoming emails')\n",
    "monthly_out.plot(color='r', label='outgoing emails')\n",
    "plt.ylabel('Monthly email count')\n",
    "plt.axis(['2020-01-01', '2020-06-01', 0, 1500])\n",
    "plt.legend(loc='best', frameon=True).get_frame().set_color('white');"
   ]
  },
  {
   "cell_type": "code",
   "execution_count": 25,
   "metadata": {},
   "outputs": [],
   "source": [
    "dow = []\n",
    "for i in range(len(df)):\n",
    "    dow.append(df['date'][i].weekday())"
   ]
  },
  {
   "cell_type": "code",
   "execution_count": 26,
   "metadata": {},
   "outputs": [
    {
     "data": {
      "text/html": [
       "<div>\n",
       "<style scoped>\n",
       "    .dataframe tbody tr th:only-of-type {\n",
       "        vertical-align: middle;\n",
       "    }\n",
       "\n",
       "    .dataframe tbody tr th {\n",
       "        vertical-align: top;\n",
       "    }\n",
       "\n",
       "    .dataframe thead th {\n",
       "        text-align: right;\n",
       "    }\n",
       "</style>\n",
       "<table border=\"1\" class=\"dataframe\">\n",
       "  <thead>\n",
       "    <tr style=\"text-align: right;\">\n",
       "      <th></th>\n",
       "      <th>subject</th>\n",
       "      <th>date</th>\n",
       "      <th>dow</th>\n",
       "      <th>label</th>\n",
       "    </tr>\n",
       "  </thead>\n",
       "  <tbody>\n",
       "    <tr>\n",
       "      <th>0</th>\n",
       "      <td>Archive of Google data requested</td>\n",
       "      <td>2020-06-18 16:20:07+00:00</td>\n",
       "      <td>3</td>\n",
       "      <td>Inbox,Important,Category Personal,Unread</td>\n",
       "    </tr>\n",
       "    <tr>\n",
       "      <th>1</th>\n",
       "      <td>DESARROLLADOR DE PROYECTOS PV/WIND</td>\n",
       "      <td>2020-06-18 16:16:51+00:00</td>\n",
       "      <td>3</td>\n",
       "      <td>Archived,Sent</td>\n",
       "    </tr>\n",
       "    <tr>\n",
       "      <th>2</th>\n",
       "      <td>=?utf-8?Q?Your_Application_to_the_Position_of_...</td>\n",
       "      <td>2020-06-18 15:39:48+00:00</td>\n",
       "      <td>3</td>\n",
       "      <td>Trash,Category Updates,Unread</td>\n",
       "    </tr>\n",
       "    <tr>\n",
       "      <th>3</th>\n",
       "      <td>=?utf-8?Q?Your_Application_to_the_Position_of_...</td>\n",
       "      <td>2020-06-18 15:29:53+00:00</td>\n",
       "      <td>3</td>\n",
       "      <td>Trash,Category Updates,Unread</td>\n",
       "    </tr>\n",
       "  </tbody>\n",
       "</table>\n",
       "</div>"
      ],
      "text/plain": [
       "                                             subject  \\\n",
       "0                   Archive of Google data requested   \n",
       "1                 DESARROLLADOR DE PROYECTOS PV/WIND   \n",
       "2  =?utf-8?Q?Your_Application_to_the_Position_of_...   \n",
       "3  =?utf-8?Q?Your_Application_to_the_Position_of_...   \n",
       "\n",
       "                       date  dow                                     label  \n",
       "0 2020-06-18 16:20:07+00:00    3  Inbox,Important,Category Personal,Unread  \n",
       "1 2020-06-18 16:16:51+00:00    3                             Archived,Sent  \n",
       "2 2020-06-18 15:39:48+00:00    3             Trash,Category Updates,Unread  \n",
       "3 2020-06-18 15:29:53+00:00    3             Trash,Category Updates,Unread  "
      ]
     },
     "execution_count": 26,
     "metadata": {},
     "output_type": "execute_result"
    }
   ],
   "source": [
    "df['dow'] = dow\n",
    "df[['subject', 'date', 'dow', 'label']].head(4)"
   ]
  },
  {
   "cell_type": "code",
   "execution_count": 27,
   "metadata": {},
   "outputs": [],
   "source": [
    "df_in = df[df['to'] == 'me']\n",
    "df_out = df[df['from'] == 'me']\n"
   ]
  },
  {
   "cell_type": "code",
   "execution_count": 28,
   "metadata": {},
   "outputs": [],
   "source": [
    "dow_in, dow_out = {}, {}\n",
    "for i in range(7):\n",
    "    dow_in[i] = 0\n",
    "    dow_out[i] = 0\n",
    "for i in df_in['dow']:\n",
    "    dow_in[i] += 1\n",
    "for i in df_out['dow']:\n",
    "    dow_out[i] += 1"
   ]
  },
  {
   "cell_type": "code",
   "execution_count": 29,
   "metadata": {},
   "outputs": [
    {
     "data": {
      "image/png": "[encoded data removed]",
      "text/plain": [
       "<Figure size 432x288 with 1 Axes>"
      ]
     },
     "metadata": {},
     "output_type": "display_data"
    }
   ],
   "source": [
    "\n",
    "x, y_in, y_out, y_all = [], [], [], []\n",
    "for key in dow_in.keys():\n",
    "    x.append(key)\n",
    "    y_in.append(dow_in[key])\n",
    "    y_out.append(dow_out[key])\n",
    "    y_all.append(dow_in[key] + dow_out[key])\n",
    "\n",
    "plt.plot(x, y_in, 'o-', color='g', label='incoming emails')\n",
    "plt.plot(x, y_out, 'o-', color='r', label='outgoing emails')\n",
    "plt.plot(x, y_all, 'o-', color='k', label='all emails')\n",
    "plt.axis([-0.5, 6.5, 0, 1000])\n",
    "plt.xlabel('day of the week')\n",
    "plt.ylabel('number of messages')\n",
    "days = ['Monday', 'Tuesday', 'Wednesday', 'Thursday', 'Friday', 'Saturday', 'Sunday']\n",
    "plt.xticks(x, days)\n",
    "plt.legend(frameon=True).get_frame().set_color('white');"
   ]
  },
  {
   "cell_type": "code",
   "execution_count": null,
   "metadata": {},
   "outputs": [],
   "source": []
  }
 ],
 "metadata": {
  "kernelspec": {
   "display_name": "Python 3",
   "language": "python",
   "name": "python3"
  },
  "language_info": {
   "codemirror_mode": {
    "name": "ipython",
    "version": 3
   },
   "file_extension": ".py",
   "mimetype": "text/x-python",
   "name": "python",
   "nbconvert_exporter": "python",
   "pygments_lexer": "ipython3",
   "version": "3.7.6"
  }
 },
 "nbformat": 4,
 "nbformat_minor": 4
}
